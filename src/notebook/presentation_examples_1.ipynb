{
 "cells": [
  {
   "cell_type": "code",
   "execution_count": null,
   "metadata": {},
   "outputs": [],
   "source": [
    "import spacy\n",
    "import pandas as pd\n",
    "from spacy import displacy\n",
    "from nltk.stem import PorterStemmer"
   ]
  },
  {
   "cell_type": "code",
   "execution_count": null,
   "metadata": {},
   "outputs": [],
   "source": [
    "nlp = spacy.load(\"en_core_web_sm\")\n",
    "#http://universaldependencies.org/docs/en/pos/"
   ]
  },
  {
   "cell_type": "code",
   "execution_count": null,
   "metadata": {},
   "outputs": [],
   "source": [
    "def parser(text, nlp):\n",
    "    ps = PorterStemmer()\n",
    "    doc = nlp(text)\n",
    "    features = []\n",
    "    for token in doc:\n",
    "        features.append (\n",
    "            {\n",
    "                'text':token.text,\n",
    "                #'lemma': token.lemma_,\n",
    "                'pos': token.pos_,\n",
    "                'tag': token.tag_,\n",
    "                'shape': token.shape_,\n",
    "                'lemma':token.lemma_,    \n",
    "                'stem': ps.stem(token.text)\n",
    "                #'dep': token.dep_\n",
    "            }\n",
    "        )\n",
    "    return pd.DataFrame(features)\n",
    "\n",
    "def parseTree(text, nlp):\n",
    "    doc = nlp(text)\n",
    "    features = []\n",
    "    for token in doc:\n",
    "         features.append (\n",
    "            {\n",
    "                            \n",
    "                #'tag': token.tag_,                \n",
    "                'children': [child for child in token.children],\n",
    "                'head.pos': token.head.pos_,\n",
    "                'head': token.head.text,\n",
    "                'dep': token.dep_,\n",
    "                'text':token.text,    \n",
    "                \n",
    "            }\n",
    "        )\n",
    "    return pd.DataFrame(features)[['text','dep','head','head.pos','children']]\n",
    "\n",
    "def showDoc(text, nlp, style = 'ent'):\n",
    "    doc = nlp(text)\n",
    "    displacy.render(doc, style=style, jupyter=True)\n",
    "    \n",
    "def showDep(text, nlp):\n",
    "    showDoc(text, nlp, 'dep')\n",
    "    \n",
    "def showEnt(text, nlp):\n",
    "    showDoc(text, nlp, 'ent')    "
   ]
  },
  {
   "cell_type": "code",
   "execution_count": null,
   "metadata": {},
   "outputs": [],
   "source": [
    "text = \"\"\"Caution prevails over Trump's legal woes and U.S.A-China-EU trade talks\"\"\" # Tokenization\n",
    "parser(text, nlp)"
   ]
  },
  {
   "cell_type": "code",
   "execution_count": null,
   "metadata": {},
   "outputs": [],
   "source": [
    "text = \"\"\"Apple opens new store in Tokyo Shinjuku District Saturday\"\"\" # Part-of-Speech\n",
    "parser(text, nlp)"
   ]
  },
  {
   "cell_type": "code",
   "execution_count": null,
   "metadata": {},
   "outputs": [],
   "source": [
    "text = \"\"\"Caution prevails over Trump legal woes and U.S.A-China-EU trade talks\"\"\" # Part-of-Speech ambiguity (check Trump) \n",
    "parser(text, nlp)"
   ]
  },
  {
   "cell_type": "code",
   "execution_count": null,
   "metadata": {},
   "outputs": [],
   "source": []
  },
  {
   "cell_type": "code",
   "execution_count": null,
   "metadata": {},
   "outputs": [],
   "source": [
    "text = \"\"\"Adam is studying the book you got him yesterday\"\"\"# Lemmatization & Stemming  (Check Studying)\n",
    "parser(text, nlp)"
   ]
  },
  {
   "cell_type": "code",
   "execution_count": null,
   "metadata": {},
   "outputs": [],
   "source": [
    "text = \"\"\"Apple opens new store in U.A.E Dubai city Saturday\"\"\" # Dependencies\n",
    "parseTree(text, nlp)"
   ]
  },
  {
   "cell_type": "code",
   "execution_count": null,
   "metadata": {},
   "outputs": [],
   "source": [
    "#text = \"\"\"Apple opens new store in U.A.E Dubai city Saturday\"\"\"\n",
    "#showDep(text, nlp)"
   ]
  },
  {
   "cell_type": "code",
   "execution_count": null,
   "metadata": {},
   "outputs": [],
   "source": [
    "text = \"\"\"Apple opens new store in U.A.E Dubai city Saturday\"\"\" # Named Entity Recognition \n",
    "#text = \"\"\"Caution prevails over Donald Trump legal woes and U.S.A-China-EU trade talks\"\"\" # Named Entity Recognition \n",
    "\n",
    "showEnt(text, nlp)"
   ]
  },
  {
   "cell_type": "code",
   "execution_count": null,
   "metadata": {},
   "outputs": [],
   "source": []
  }
 ],
 "metadata": {
  "kernelspec": {
   "display_name": "Python [default]",
   "language": "python",
   "name": "python3"
  },
  "language_info": {
   "codemirror_mode": {
    "name": "ipython",
    "version": 3
   },
   "file_extension": ".py",
   "mimetype": "text/x-python",
   "name": "python",
   "nbconvert_exporter": "python",
   "pygments_lexer": "ipython3",
   "version": "3.6.6"
  }
 },
 "nbformat": 4,
 "nbformat_minor": 2
}
